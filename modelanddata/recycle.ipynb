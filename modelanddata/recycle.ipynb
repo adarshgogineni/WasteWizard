{
 "cells": [
  {
   "cell_type": "code",
   "execution_count": 1,
   "id": "48c5afbe",
   "metadata": {},
   "outputs": [],
   "source": [
    "import os\n",
    "base_dir = './'\n",
    "non_recyclable_dir = os.path.join(base_dir, 'non-recyclable')\n",
    "recyclable_dir = os.path.join(base_dir, 'recyclable')\n",
    "test_dir = os.path.join(base_dir, 'test')\n",
    "test_nonrecyclable_dir = os.path.join(test_dir, 'test_nonrecyclable')\n",
    "test_recyclable_dir = os.path.join(test_dir, 'test_recycleable')"
   ]
  },
  {
   "cell_type": "code",
   "execution_count": 2,
   "id": "e59fec4c",
   "metadata": {},
   "outputs": [
    {
     "name": "stdout",
     "output_type": "stream",
     "text": [
      "Non-recyclable images: 40\n",
      "Recyclable images: 40\n",
      "Test non-recyclable images: 10\n",
      "Test recyclable images: 10\n"
     ]
    }
   ],
   "source": [
    "print(\"Non-recyclable images:\", len(os.listdir(non_recyclable_dir)))\n",
    "print(\"Recyclable images:\", len(os.listdir(recyclable_dir)))\n",
    "print(\"Test non-recyclable images:\", len(os.listdir(test_nonrecyclable_dir)))\n",
    "print(\"Test recyclable images:\", len(os.listdir(test_recyclable_dir)))"
   ]
  },
  {
   "cell_type": "code",
   "execution_count": 3,
   "id": "5cc3a370",
   "metadata": {},
   "outputs": [
    {
     "name": "stdout",
     "output_type": "stream",
     "text": [
      "Found 80 images belonging to 2 classes.\n",
      "Found 80 images belonging to 2 classes.\n",
      "Found 20 images belonging to 2 classes.\n"
     ]
    }
   ],
   "source": [
    "from tensorflow.keras.preprocessing.image import ImageDataGenerator\n",
    "\n",
    "img_width, img_height = 200, 200\n",
    "batch_size = 10\n",
    "\n",
    "train_datagen = ImageDataGenerator(rescale=1./255)\n",
    "validation_datagen = ImageDataGenerator(rescale=1./255)\n",
    "test_datagen = ImageDataGenerator(rescale=1./255)\n",
    "\n",
    "train_generator = train_datagen.flow_from_directory(\n",
    "    base_dir,\n",
    "    classes=['recyclable', 'non-recyclable'],\n",
    "    target_size=(img_width, img_height),\n",
    "    batch_size=batch_size,\n",
    "    class_mode='binary'\n",
    ")\n",
    "\n",
    "validation_generator = validation_datagen.flow_from_directory(\n",
    "    base_dir,\n",
    "    classes=['recyclable', 'non-recyclable'],\n",
    "    target_size=(img_width, img_height),\n",
    "    batch_size=batch_size,\n",
    "    class_mode='binary'\n",
    ")\n",
    "\n",
    "test_generator = test_datagen.flow_from_directory(\n",
    "    test_dir, \n",
    "    target_size=(img_width, img_height),\n",
    "    batch_size=batch_size,\n",
    "    class_mode='binary',\n",
    "    shuffle=False\n",
    ")"
   ]
  },
  {
   "cell_type": "code",
   "execution_count": 4,
   "id": "49953c3c",
   "metadata": {},
   "outputs": [
    {
     "name": "stderr",
     "output_type": "stream",
     "text": [
      "2024-04-28 12:19:02.096365: I metal_plugin/src/device/metal_device.cc:1154] Metal device set to: Apple M1 Pro\n",
      "2024-04-28 12:19:02.096394: I metal_plugin/src/device/metal_device.cc:296] systemMemory: 16.00 GB\n",
      "2024-04-28 12:19:02.096405: I metal_plugin/src/device/metal_device.cc:313] maxCacheSize: 5.33 GB\n",
      "2024-04-28 12:19:02.096479: I tensorflow/core/common_runtime/pluggable_device/pluggable_device_factory.cc:306] Could not identify NUMA node of platform GPU ID 0, defaulting to 0. Your kernel may not have been built with NUMA support.\n",
      "2024-04-28 12:19:02.096526: I tensorflow/core/common_runtime/pluggable_device/pluggable_device_factory.cc:272] Created TensorFlow device (/job:localhost/replica:0/task:0/device:GPU:0 with 0 MB memory) -> physical PluggableDevice (device: 0, name: METAL, pci bus id: <undefined>)\n"
     ]
    }
   ],
   "source": [
    "from tensorflow.keras.models import Sequential\n",
    "from tensorflow.keras.layers import Conv2D, MaxPooling2D, Flatten, Dense\n",
    "\n",
    "model = Sequential([\n",
    "    Conv2D(16, (3, 3), activation='relu', input_shape=(img_width, img_height, 3)),\n",
    "    MaxPooling2D(2, 2),\n",
    "    Conv2D(32, (3, 3), activation='relu'),\n",
    "    MaxPooling2D(2, 2),\n",
    "    Conv2D(64, (3, 3), activation='relu'),\n",
    "    MaxPooling2D(2, 2),\n",
    "    Flatten(),\n",
    "    Dense(512, activation='relu'),\n",
    "    Dense(1, activation='sigmoid')\n",
    "])\n",
    "\n",
    "model.compile(optimizer='adam', loss='binary_crossentropy', metrics=['accuracy'])"
   ]
  },
  {
   "cell_type": "code",
   "execution_count": 5,
   "id": "9e506402",
   "metadata": {},
   "outputs": [
    {
     "name": "stdout",
     "output_type": "stream",
     "text": [
      "Epoch 1/10\n"
     ]
    },
    {
     "name": "stderr",
     "output_type": "stream",
     "text": [
      "2024-04-28 12:19:08.289895: I tensorflow/core/grappler/optimizers/custom_graph_optimizer_registry.cc:117] Plugin optimizer for device_type GPU is enabled.\n"
     ]
    },
    {
     "name": "stdout",
     "output_type": "stream",
     "text": [
      "8/8 [==============================] - 3s 59ms/step - loss: 5.2698 - accuracy: 0.5500 - val_loss: 6.0950 - val_accuracy: 0.5000\n",
      "Epoch 2/10\n",
      "8/8 [==============================] - 0s 35ms/step - loss: 4.9749 - accuracy: 0.4500 - val_loss: 2.4924 - val_accuracy: 0.5000\n",
      "Epoch 3/10\n",
      "8/8 [==============================] - 0s 34ms/step - loss: 1.8987 - accuracy: 0.5375 - val_loss: 1.1355 - val_accuracy: 0.5000\n",
      "Epoch 4/10\n",
      "8/8 [==============================] - 0s 35ms/step - loss: 0.7637 - accuracy: 0.5750 - val_loss: 0.5381 - val_accuracy: 0.7875\n",
      "Epoch 5/10\n",
      "8/8 [==============================] - 0s 35ms/step - loss: 0.5561 - accuracy: 0.7500 - val_loss: 0.4842 - val_accuracy: 0.7750\n",
      "Epoch 6/10\n",
      "8/8 [==============================] - 0s 37ms/step - loss: 0.5194 - accuracy: 0.7500 - val_loss: 0.6430 - val_accuracy: 0.6000\n",
      "Epoch 7/10\n",
      "8/8 [==============================] - 0s 36ms/step - loss: 0.4810 - accuracy: 0.7000 - val_loss: 0.6724 - val_accuracy: 0.5875\n",
      "Epoch 8/10\n",
      "8/8 [==============================] - 0s 35ms/step - loss: 0.4451 - accuracy: 0.8000 - val_loss: 0.3612 - val_accuracy: 0.8375\n",
      "Epoch 9/10\n",
      "8/8 [==============================] - 0s 36ms/step - loss: 0.3331 - accuracy: 0.8875 - val_loss: 0.2942 - val_accuracy: 0.8875\n",
      "Epoch 10/10\n",
      "8/8 [==============================] - 0s 38ms/step - loss: 0.2808 - accuracy: 0.8875 - val_loss: 0.3509 - val_accuracy: 0.8375\n"
     ]
    }
   ],
   "source": [
    "history = model.fit(\n",
    "    train_generator,\n",
    "    steps_per_epoch=8,\n",
    "    epochs=10,\n",
    "    validation_data=validation_generator,\n",
    "    validation_steps=8\n",
    ")"
   ]
  },
  {
   "cell_type": "code",
   "execution_count": 6,
   "id": "a23f0f88",
   "metadata": {},
   "outputs": [
    {
     "name": "stdout",
     "output_type": "stream",
     "text": [
      "2/2 [==============================] - 0s 14ms/step - loss: 1.5119 - accuracy: 0.5000\n",
      "Test accuracy: 0.5\n"
     ]
    }
   ],
   "source": [
    "test_loss, test_acc = model.evaluate(test_generator)\n",
    "print('Test accuracy:', test_acc)"
   ]
  },
  {
   "cell_type": "code",
   "execution_count": 7,
   "id": "33cbabc7",
   "metadata": {},
   "outputs": [
    {
     "name": "stdout",
     "output_type": "stream",
     "text": [
      "1/1 [==============================] - 0s 364ms/step\n",
      "./test/test_recycleable/QLCZ2890.jpg: non-recyclable\n",
      "1/1 [==============================] - 0s 14ms/step\n",
      "./test/test_nonrecyclable/WRAQ6784.jpg: non-recyclable\n"
     ]
    }
   ],
   "source": [
    "import numpy as np\n",
    "from tensorflow.keras.preprocessing import image\n",
    "\n",
    "def load_and_predict(img_path):\n",
    "    img = image.load_img(img_path, target_size=(img_width, img_height))\n",
    "    img_tensor = image.img_to_array(img)\n",
    "    img_tensor = np.expand_dims(img_tensor, axis=0)\n",
    "    img_tensor /= 255.\n",
    "\n",
    "    prediction = model.predict(img_tensor)\n",
    "    return \"recyclable\" if prediction[0] < 0.5 else \"non-recyclable\"\n",
    "\n",
    "test_img_paths = [\n",
    "    os.path.join(test_recyclable_dir, 'QLCZ2890.jpg'),\n",
    "    os.path.join(test_nonrecyclable_dir, 'WRAQ6784.jpg') \n",
    "]\n",
    "\n",
    "for path in test_img_paths:\n",
    "    result = load_and_predict(path)\n",
    "    print(f'{path}: {result}')\n"
   ]
  },
  {
   "cell_type": "code",
   "execution_count": 9,
   "id": "636451df",
   "metadata": {},
   "outputs": [
    {
     "name": "stderr",
     "output_type": "stream",
     "text": [
      "/Users/adarsh/.pyenv/versions/3.9.18/lib/python3.9/site-packages/keras/src/engine/training.py:3103: UserWarning: You are saving your model as an HDF5 file via `model.save()`. This file format is considered legacy. We recommend using instead the native Keras format, e.g. `model.save('my_model.keras')`.\n",
      "  saving_api.save_model(\n"
     ]
    },
    {
     "name": "stdout",
     "output_type": "stream",
     "text": [
      "Model saved to recycling_classification_model.h5\n"
     ]
    }
   ],
   "source": [
    "filename = 'recycling_classification_model.h5'\n",
    "model.save(filename)\n",
    "\n",
    "print(f'Model saved to {filename}')"
   ]
  }
 ],
 "metadata": {
  "kernelspec": {
   "display_name": "Python 3 (ipykernel)",
   "language": "python",
   "name": "python3"
  },
  "language_info": {
   "codemirror_mode": {
    "name": "ipython",
    "version": 3
   },
   "file_extension": ".py",
   "mimetype": "text/x-python",
   "name": "python",
   "nbconvert_exporter": "python",
   "pygments_lexer": "ipython3",
   "version": "3.9.18"
  }
 },
 "nbformat": 4,
 "nbformat_minor": 5
}
