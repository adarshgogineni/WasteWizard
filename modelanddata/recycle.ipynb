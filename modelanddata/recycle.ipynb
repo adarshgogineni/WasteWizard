{
 "cells": [
  {
   "cell_type": "code",
   "execution_count": 1,
   "id": "48c5afbe",
   "metadata": {},
   "outputs": [],
   "source": [
    "import os\n",
    "base_dir = './'\n",
    "non_recyclable_dir = os.path.join(base_dir, 'non-recyclable')\n",
    "recyclable_dir = os.path.join(base_dir, 'recyclable')\n",
    "test_dir = os.path.join(base_dir, 'test')\n",
    "test_nonrecyclable_dir = os.path.join(test_dir, 'test_nonrecyclable')\n",
    "test_recyclable_dir = os.path.join(test_dir, 'test_recycleable')"
   ]
  },
  {
   "cell_type": "code",
   "execution_count": 2,
   "id": "e59fec4c",
   "metadata": {},
   "outputs": [
    {
     "name": "stdout",
     "output_type": "stream",
     "text": [
      "Non-recyclable images: 40\n",
      "Recyclable images: 40\n",
      "Test non-recyclable images: 10\n",
      "Test recyclable images: 10\n"
     ]
    }
   ],
   "source": [
    "print(\"Non-recyclable images:\", len(os.listdir(non_recyclable_dir)))\n",
    "print(\"Recyclable images:\", len(os.listdir(recyclable_dir)))\n",
    "print(\"Test non-recyclable images:\", len(os.listdir(test_nonrecyclable_dir)))\n",
    "print(\"Test recyclable images:\", len(os.listdir(test_recyclable_dir)))"
   ]
  },
  {
   "cell_type": "code",
   "execution_count": 3,
   "id": "5cc3a370",
   "metadata": {},
   "outputs": [
    {
     "ename": "ModuleNotFoundError",
     "evalue": "No module named 'tensorflow'",
     "output_type": "error",
     "traceback": [
      "\u001b[0;31m---------------------------------------------------------------------------\u001b[0m",
      "\u001b[0;31mModuleNotFoundError\u001b[0m                       Traceback (most recent call last)",
      "Cell \u001b[0;32mIn[3], line 1\u001b[0m\n\u001b[0;32m----> 1\u001b[0m \u001b[38;5;28;01mfrom\u001b[39;00m \u001b[38;5;21;01mtensorflow\u001b[39;00m\u001b[38;5;21;01m.\u001b[39;00m\u001b[38;5;21;01mkeras\u001b[39;00m\u001b[38;5;21;01m.\u001b[39;00m\u001b[38;5;21;01mpreprocessing\u001b[39;00m\u001b[38;5;21;01m.\u001b[39;00m\u001b[38;5;21;01mimage\u001b[39;00m \u001b[38;5;28;01mimport\u001b[39;00m ImageDataGenerator\n\u001b[1;32m      3\u001b[0m img_width, img_height \u001b[38;5;241m=\u001b[39m \u001b[38;5;241m200\u001b[39m, \u001b[38;5;241m200\u001b[39m\n\u001b[1;32m      4\u001b[0m batch_size \u001b[38;5;241m=\u001b[39m \u001b[38;5;241m10\u001b[39m\n",
      "\u001b[0;31mModuleNotFoundError\u001b[0m: No module named 'tensorflow'"
     ]
    }
   ],
   "source": [
    "from tensorflow.keras.preprocessing.image import ImageDataGenerator\n",
    "\n",
    "img_width, img_height = 200, 200\n",
    "batch_size = 10\n",
    "\n",
    "train_datagen = ImageDataGenerator(rescale=1./255)\n",
    "validation_datagen = ImageDataGenerator(rescale=1./255)\n",
    "test_datagen = ImageDataGenerator(rescale=1./255)\n",
    "\n",
    "train_generator = train_datagen.flow_from_directory(\n",
    "    base_dir,\n",
    "    classes=['recyclable', 'non-recyclable'],\n",
    "    target_size=(img_width, img_height),\n",
    "    batch_size=batch_size,\n",
    "    class_mode='binary'\n",
    ")\n",
    "\n",
    "validation_generator = validation_datagen.flow_from_directory(\n",
    "    base_dir,\n",
    "    classes=['recyclable', 'non-recyclable'],\n",
    "    target_size=(img_width, img_height),\n",
    "    batch_size=batch_size,\n",
    "    class_mode='binary'\n",
    ")\n",
    "\n",
    "test_generator = test_datagen.flow_from_directory(\n",
    "    test_dir, \n",
    "    target_size=(img_width, img_height),\n",
    "    batch_size=batch_size,\n",
    "    class_mode='binary',\n",
    "    shuffle=False\n",
    ")"
   ]
  },
  {
   "cell_type": "code",
   "execution_count": 11,
   "id": "49953c3c",
   "metadata": {},
   "outputs": [],
   "source": [
    "from tensorflow.keras.models import Sequential\n",
    "from tensorflow.keras.layers import Conv2D, MaxPooling2D, Flatten, Dense\n",
    "\n",
    "model = Sequential([\n",
    "    Conv2D(16, (3, 3), activation='relu', input_shape=(img_width, img_height, 3)),\n",
    "    MaxPooling2D(2, 2),\n",
    "    Conv2D(32, (3, 3), activation='relu'),\n",
    "    MaxPooling2D(2, 2),\n",
    "    Conv2D(64, (3, 3), activation='relu'),\n",
    "    MaxPooling2D(2, 2),\n",
    "    Flatten(),\n",
    "    Dense(512, activation='relu'),\n",
    "    Dense(1, activation='sigmoid')\n",
    "])\n",
    "\n",
    "model.compile(optimizer='adam', loss='binary_crossentropy', metrics=['accuracy'])"
   ]
  },
  {
   "cell_type": "code",
   "execution_count": 12,
   "id": "9e506402",
   "metadata": {},
   "outputs": [
    {
     "name": "stdout",
     "output_type": "stream",
     "text": [
      "Epoch 1/10\n",
      "8/8 [==============================] - 3s 271ms/step - loss: 1.2559 - accuracy: 0.4500 - val_loss: 0.6745 - val_accuracy: 0.7125\n",
      "Epoch 2/10\n",
      "8/8 [==============================] - 2s 228ms/step - loss: 0.7066 - accuracy: 0.5500 - val_loss: 0.6538 - val_accuracy: 0.5000\n",
      "Epoch 3/10\n",
      "8/8 [==============================] - 2s 208ms/step - loss: 0.6484 - accuracy: 0.6375 - val_loss: 0.5769 - val_accuracy: 0.8125\n",
      "Epoch 4/10\n",
      "8/8 [==============================] - 2s 225ms/step - loss: 0.5489 - accuracy: 0.7375 - val_loss: 0.4613 - val_accuracy: 0.8375\n",
      "Epoch 5/10\n",
      "8/8 [==============================] - 2s 208ms/step - loss: 0.4048 - accuracy: 0.8375 - val_loss: 0.2525 - val_accuracy: 0.9375\n",
      "Epoch 6/10\n",
      "8/8 [==============================] - 2s 208ms/step - loss: 0.2604 - accuracy: 0.9000 - val_loss: 0.1579 - val_accuracy: 0.9500\n",
      "Epoch 7/10\n",
      "8/8 [==============================] - 2s 230ms/step - loss: 0.1623 - accuracy: 0.9375 - val_loss: 0.1594 - val_accuracy: 0.9375\n",
      "Epoch 8/10\n",
      "8/8 [==============================] - 2s 236ms/step - loss: 0.1161 - accuracy: 0.9625 - val_loss: 0.1088 - val_accuracy: 0.9750\n",
      "Epoch 9/10\n",
      "8/8 [==============================] - 2s 227ms/step - loss: 0.0785 - accuracy: 0.9875 - val_loss: 0.0266 - val_accuracy: 1.0000\n",
      "Epoch 10/10\n",
      "8/8 [==============================] - 2s 203ms/step - loss: 0.0445 - accuracy: 0.9875 - val_loss: 0.0290 - val_accuracy: 1.0000\n"
     ]
    }
   ],
   "source": [
    "history = model.fit(\n",
    "    train_generator,\n",
    "    steps_per_epoch=8,\n",
    "    epochs=10,\n",
    "    validation_data=validation_generator,\n",
    "    validation_steps=8\n",
    ")"
   ]
  },
  {
   "cell_type": "code",
   "execution_count": 13,
   "id": "a23f0f88",
   "metadata": {},
   "outputs": [
    {
     "name": "stdout",
     "output_type": "stream",
     "text": [
      "2/2 [==============================] - 0s 109ms/step - loss: 3.4391 - accuracy: 0.3500\n",
      "Test accuracy: 0.3499999940395355\n"
     ]
    }
   ],
   "source": [
    "test_loss, test_acc = model.evaluate(test_generator)\n",
    "print('Test accuracy:', test_acc)"
   ]
  },
  {
   "cell_type": "code",
   "execution_count": 17,
   "id": "33cbabc7",
   "metadata": {},
   "outputs": [
    {
     "name": "stdout",
     "output_type": "stream",
     "text": [
      "1/1 [==============================] - 0s 23ms/step\n",
      "./test\\test_recycleable\\QLCZ2890.jpg: recyclable\n",
      "1/1 [==============================] - 0s 30ms/step\n",
      "./test\\test_nonrecyclable\\WRAQ6784.jpg: non-recyclable\n"
     ]
    }
   ],
   "source": [
    "import numpy as np\n",
    "from tensorflow.keras.preprocessing import image\n",
    "\n",
    "def load_and_predict(img_path):\n",
    "    img = image.load_img(img_path, target_size=(img_width, img_height))\n",
    "    img_tensor = image.img_to_array(img)\n",
    "    img_tensor = np.expand_dims(img_tensor, axis=0)\n",
    "    img_tensor /= 255.\n",
    "\n",
    "    prediction = model.predict(img_tensor)\n",
    "    return \"recyclable\" if prediction[0] < 0.5 else \"non-recyclable\"\n",
    "\n",
    "test_img_paths = [\n",
    "    os.path.join(test_recyclable_dir, 'QLCZ2890.jpg'),\n",
    "    os.path.join(test_nonrecyclable_dir, 'WRAQ6784.jpg') \n",
    "]\n",
    "\n",
    "for path in test_img_paths:\n",
    "    result = load_and_predict(path)\n",
    "    print(f'{path}: {result}')\n"
   ]
  },
  {
   "cell_type": "code",
   "execution_count": null,
   "id": "636451df",
   "metadata": {},
   "outputs": [],
   "source": []
  }
 ],
 "metadata": {
  "kernelspec": {
   "display_name": "Python 3 (ipykernel)",
   "language": "python",
   "name": "python3"
  },
  "language_info": {
   "codemirror_mode": {
    "name": "ipython",
    "version": 3
   },
   "file_extension": ".py",
   "mimetype": "text/x-python",
   "name": "python",
   "nbconvert_exporter": "python",
   "pygments_lexer": "ipython3",
   "version": "3.9.18"
  }
 },
 "nbformat": 4,
 "nbformat_minor": 5
}
