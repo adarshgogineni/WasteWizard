{
 "cells": [
  {
   "cell_type": "code",
   "execution_count": null,
   "id": "48c5afbe",
   "metadata": {},
   "outputs": [],
   "source": [
    "import os\n",
    "base_dir = './'\n",
    "non_recyclable_dir = os.path.join(base_dir, 'non-recyclable')\n",
    "recyclable_dir = os.path.join(base_dir, 'recyclable')\n",
    "test_dir = os.path.join(base_dir, 'test')\n",
    "test_nonrecyclable_dir = os.path.join(test_dir, 'test_nonrecyclable')\n",
    "test_recyclable_dir = os.path.join(test_dir, 'test_recycleable')"
   ]
  },
  {
   "cell_type": "code",
   "execution_count": null,
   "id": "e59fec4c",
   "metadata": {},
   "outputs": [],
   "source": [
    "print(\"Non-recyclable images:\", len(os.listdir(non_recyclable_dir)))\n",
    "print(\"Recyclable images:\", len(os.listdir(recyclable_dir)))\n",
    "print(\"Test non-recyclable images:\", len(os.listdir(test_nonrecyclable_dir)))\n",
    "print(\"Test recyclable images:\", len(os.listdir(test_recyclable_dir)))"
   ]
  },
  {
   "cell_type": "code",
   "execution_count": null,
   "id": "5cc3a370",
   "metadata": {},
   "outputs": [],
   "source": [
    "from tensorflow.keras.preprocessing.image import ImageDataGenerator\n",
    "\n",
    "img_width, img_height = 200, 200\n",
    "batch_size = 10\n",
    "\n",
    "train_datagen = ImageDataGenerator(rescale=1./255)\n",
    "validation_datagen = ImageDataGenerator(rescale=1./255)\n",
    "test_datagen = ImageDataGenerator(rescale=1./255)\n",
    "\n",
    "train_generator = train_datagen.flow_from_directory(\n",
    "    base_dir,\n",
    "    classes=['recyclable', 'non-recyclable'],\n",
    "    target_size=(img_width, img_height),\n",
    "    batch_size=batch_size,\n",
    "    class_mode='binary'\n",
    ")\n",
    "\n",
    "validation_generator = validation_datagen.flow_from_directory(\n",
    "    base_dir,\n",
    "    classes=['recyclable', 'non-recyclable'],\n",
    "    target_size=(img_width, img_height),\n",
    "    batch_size=batch_size,\n",
    "    class_mode='binary'\n",
    ")\n",
    "\n",
    "test_generator = test_datagen.flow_from_directory(\n",
    "    test_dir, \n",
    "    target_size=(img_width, img_height),\n",
    "    batch_size=batch_size,\n",
    "    class_mode='binary',\n",
    "    shuffle=False\n",
    ")"
   ]
  },
  {
   "cell_type": "code",
   "execution_count": null,
   "id": "49953c3c",
   "metadata": {},
   "outputs": [],
   "source": [
    "from tensorflow.keras.models import Sequential\n",
    "from tensorflow.keras.layers import Conv2D, MaxPooling2D, Flatten, Dense\n",
    "\n",
    "model = Sequential([\n",
    "    Conv2D(16, (3, 3), activation='relu', input_shape=(img_width, img_height, 3)),\n",
    "    MaxPooling2D(2, 2),\n",
    "    Conv2D(32, (3, 3), activation='relu'),\n",
    "    MaxPooling2D(2, 2),\n",
    "    Conv2D(64, (3, 3), activation='relu'),\n",
    "    MaxPooling2D(2, 2),\n",
    "    Flatten(),\n",
    "    Dense(512, activation='relu'),\n",
    "    Dense(1, activation='sigmoid')\n",
    "])\n",
    "\n",
    "model.compile(optimizer='adam', loss='binary_crossentropy', metrics=['accuracy'])"
   ]
  },
  {
   "cell_type": "code",
   "execution_count": null,
   "id": "9e506402",
   "metadata": {},
   "outputs": [],
   "source": [
    "history = model.fit(\n",
    "    train_generator,\n",
    "    steps_per_epoch=8,\n",
    "    epochs=10,\n",
    "    validation_data=validation_generator,\n",
    "    validation_steps=8\n",
    ")"
   ]
  },
  {
   "cell_type": "code",
   "execution_count": null,
   "id": "a23f0f88",
   "metadata": {},
   "outputs": [],
   "source": [
    "test_loss, test_acc = model.evaluate(test_generator)\n",
    "print('Test accuracy:', test_acc)"
   ]
  },
  {
   "cell_type": "code",
   "execution_count": null,
   "id": "33cbabc7",
   "metadata": {},
   "outputs": [],
   "source": [
    "import numpy as np\n",
    "from tensorflow.keras.preprocessing import image\n",
    "\n",
    "def load_and_predict(img_path):\n",
    "    img = image.load_img(img_path, target_size=(img_width, img_height))\n",
    "    img_tensor = image.img_to_array(img)\n",
    "    img_tensor = np.expand_dims(img_tensor, axis=0)\n",
    "    img_tensor /= 255.\n",
    "\n",
    "    prediction = model.predict(img_tensor)\n",
    "    return \"recyclable\" if prediction[0] < 0.5 else \"non-recyclable\"\n",
    "\n",
    "test_img_paths = [\n",
    "    os.path.join(test_recyclable_dir, 'QLCZ2890.jpg'),\n",
    "    os.path.join(test_nonrecyclable_dir, 'WRAQ6784.jpg') \n",
    "]\n",
    "\n",
    "for path in test_img_paths:\n",
    "    result = load_and_predict(path)\n",
    "    print(f'{path}: {result}')\n"
   ]
  },
  {
   "cell_type": "code",
   "execution_count": null,
   "id": "636451df",
   "metadata": {},
   "outputs": [],
   "source": [
    "import pickle\n",
    "\n",
    "filename = 'recycling_classification_model.pkl'\n",
    "pickle.dump(model, open(filename, 'wb'))\n",
    "\n",
    "print(f'Model saved to {filename}')"
   ]
  }
 ],
 "metadata": {
  "kernelspec": {
   "display_name": "Python 3 (ipykernel)",
   "language": "python",
   "name": "python3"
  },
  "language_info": {
   "codemirror_mode": {
    "name": "ipython",
    "version": 3
   },
   "file_extension": ".py",
   "mimetype": "text/x-python",
   "name": "python",
   "nbconvert_exporter": "python",
   "pygments_lexer": "ipython3",
   "version": "3.9.18"
  }
 },
 "nbformat": 4,
 "nbformat_minor": 5
}
